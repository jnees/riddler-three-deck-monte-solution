{
 "cells": [
  {
   "cell_type": "markdown",
   "metadata": {},
   "source": [
    "# FiveThirtyEight Riddler Classic: \"Three Deck Monte\" Solved\n",
    "\n",
    "This is my programming approach to simulating possible outcomes for the \"Three Deck Monte\" riddle from [FiveThirtyFive](https://fivethirtyeight.com/features/can-you-escape-a-maze-without-walls/).\n",
    "\n",
    "I'm a python novice, so this meant to just be a bit of fun practice. I originally tried to solve it by separating separating rounds, games, and series each into their own functions. I realized that I had overcomplicated things and with a bad design as I was Googling how to fix global variable errors. I deleted it all and started over with the idea of just using nested loops inside of one function, which was easier and helped readability.\n",
    "\n",
    "## Riddle Prompt (from FiveThirtyFive)\n",
    "\n",
    "Riddler Classic\n",
    "From Jordan Miller and William Rucklidge, three-deck monte:\n",
    "\n",
    "You meet someone on a street corner who’s standing at a table on which there are three decks of playing cards. He tells you his name is “Three Deck Monte.” Knowing this will surely end well, you inspect the decks. Each deck contains 12 cards …\n",
    "\n",
    "Red Deck: four aces, four 9s, four 7s\n",
    "Blue Deck: four kings, four jacks, four 6s\n",
    "Black Deck: four queens, four 10s, four 8s\n",
    "The man offers you a bet: You pick one of the decks, he then picks a different one. You both shuffle your decks, and you compete in a short game similar to War. You each turn over cards one at a time, the one with a higher card wins that turn (aces are high), and the first to win five turns wins the bet. (There can’t be ties, as no deck contains any of the same cards as any other deck.)\n",
    "\n",
    "Should you take the bet? After all, you can pick any of the decks, which seems like it should give you an advantage against the dealer. If you take the bet, and the dealer picks the best possible counter deck each time, how often will you win?"
   ]
  },
  {
   "cell_type": "markdown",
   "metadata": {},
   "source": [
    "## Answer:\n",
    "\n",
    "As noted on FiveThirtyFive, this is essentially a masked paper-rock-scissors game where each deck has a counter-deck. Unlike Paper, Rock, Scissors, the choices in this game are made sequentially with full knowledge of the other player's choice. The second person to choose can always just pick the deck that overpowers the other player's choice. Monte creates a false sense of control for players with his dubious game design; he lets them choose first and shuffles the decks to make it seem random. Trails of 50,000 games per deck show that Monte will beat the player in 70% of all games by choosing the deck that counters their deck selection."
   ]
  },
  {
   "cell_type": "markdown",
   "metadata": {},
   "source": [
    "## Program Design\n",
    "\n",
    "The flow of the game looks like this;\n",
    "1. A card is drawn at random from each deck.\n",
    "2. The cards are compared and the player with the highest value card gets a point.\n",
    "3. The cards are removed from the deck as they are used until the end of the game.\n",
    "4. The game is repeated until either Monte or the player reaches 5 points, winning the game.\n",
    "5. The decks are reset and the game is repeated for a series of n games. (50,000 games in my example trials below).\n",
    "6. At the end of the series, the player's win rate is calculated and printed."
   ]
  },
  {
   "cell_type": "markdown",
   "metadata": {},
   "source": [
    "## Program"
   ]
  },
  {
   "cell_type": "code",
   "execution_count": 1,
   "metadata": {},
   "outputs": [],
   "source": [
    "import random    #will use random.choice to select cards."
   ]
  },
  {
   "cell_type": "markdown",
   "metadata": {},
   "source": [
    "### Define Decks"
   ]
  },
  {
   "cell_type": "code",
   "execution_count": 2,
   "metadata": {},
   "outputs": [],
   "source": [
    "red_deck = [15, 15, 15, 15, 9, 9, 9, 9, 7, 7, 7, 7]\n",
    "blue_deck = [14, 14, 14, 14, 11, 11, 11, 11, 6, 6, 6, 6]\n",
    "black_deck = [13, 13, 13, 13, 10, 10, 10, 10, 8, 8, 8, 8]\n"
   ]
  },
  {
   "cell_type": "markdown",
   "metadata": {},
   "source": [
    "### Game"
   ]
  },
  {
   "cell_type": "code",
   "execution_count": 3,
   "metadata": {},
   "outputs": [],
   "source": [
    "def simulate(player_deck, monte_deck, n_games):\n",
    "    \n",
    "    #series score keeper\n",
    "    p_series_score = 0\n",
    "    m_series_score = 0\n",
    "    \n",
    "    #Play series of n games\n",
    "    for i in range(n_games):\n",
    "        \n",
    "        #PLAY GAME\n",
    "        #setup decks for game\n",
    "        p_deck = player_deck.copy()\n",
    "        m_deck = monte_deck.copy()\n",
    "\n",
    "        #game score keeper\n",
    "        p_game_score = 0\n",
    "        m_game_score = 0\n",
    "\n",
    "        #round\n",
    "        for i in range(12):\n",
    "            #select card\n",
    "            p_card = random.choice(p_deck)\n",
    "            m_card = random.choice(m_deck)\n",
    "            \n",
    "            #remove card from game deck\n",
    "            p_deck.remove(p_card)\n",
    "            m_deck.remove(m_card)\n",
    "            \n",
    "            #compare cards\n",
    "            if p_card > m_card:\n",
    "                p_game_score += 1\n",
    "            else:\n",
    "                m_game_score += 1\n",
    "                \n",
    "            #is the game over?\n",
    "            if (p_game_score == 5):\n",
    "                p_series_score += 1\n",
    "                break\n",
    "            elif (m_game_score == 5):\n",
    "                m_series_score += 1\n",
    "                break\n",
    "\n",
    "    #Print Series Results  \n",
    "    p_win_pct = round((p_series_score / n_games) * 100, 2)\n",
    "    m_win_pct = round((m_series_score / n_games) * 100, 2)\n",
    "    print(f\"Player wins {p_series_score:,} games out of {n_games:,}. Player wins {p_win_pct}% of games.\") \n",
    "    print(f\"Monte wins {m_series_score:,} games out of {n_games:,}. Monte win percentage is {m_win_pct}% of games.\")\n",
    "            \n"
   ]
  },
  {
   "cell_type": "markdown",
   "metadata": {},
   "source": [
    "### Trials: Player select blue deck, Monte responds by selecting the red deck."
   ]
  },
  {
   "cell_type": "code",
   "execution_count": 4,
   "metadata": {},
   "outputs": [
    {
     "name": "stdout",
     "output_type": "stream",
     "text": [
      "Player wins 14,808 games out of 50,000. Player wins 29.62% of games.\n",
      "Monte wins 35,192 games out of 50,000. Monte win percentage is 70.38% of games.\n"
     ]
    }
   ],
   "source": [
    "simulate(player_deck=blue_deck, monte_deck=red_deck, n_games=50000)"
   ]
  },
  {
   "cell_type": "markdown",
   "metadata": {},
   "source": [
    "### Trials: Player selects red deck, Monte responds by selecting black deck."
   ]
  },
  {
   "cell_type": "code",
   "execution_count": 5,
   "metadata": {},
   "outputs": [
    {
     "name": "stdout",
     "output_type": "stream",
     "text": [
      "Player wins 14,790 games out of 50,000. Player wins 29.58% of games.\n",
      "Monte wins 35,210 games out of 50,000. Monte win percentage is 70.42% of games.\n"
     ]
    }
   ],
   "source": [
    "simulate(player_deck=red_deck, monte_deck=black_deck, n_games=50000)"
   ]
  },
  {
   "cell_type": "markdown",
   "metadata": {},
   "source": [
    "### Trials: Player selects black deck, Monte responds by selecting blue deck."
   ]
  },
  {
   "cell_type": "code",
   "execution_count": 6,
   "metadata": {},
   "outputs": [
    {
     "name": "stdout",
     "output_type": "stream",
     "text": [
      "Player wins 14,968 games out of 50,000. Player wins 29.94% of games.\n",
      "Monte wins 35,032 games out of 50,000. Monte win percentage is 70.06% of games.\n"
     ]
    }
   ],
   "source": [
    "simulate(player_deck=black_deck, monte_deck=blue_deck, n_games=50000)"
   ]
  }
 ],
 "metadata": {
  "kernelspec": {
   "display_name": "Python 3",
   "language": "python",
   "name": "python3"
  },
  "language_info": {
   "codemirror_mode": {
    "name": "ipython",
    "version": 3
   },
   "file_extension": ".py",
   "mimetype": "text/x-python",
   "name": "python",
   "nbconvert_exporter": "python",
   "pygments_lexer": "ipython3",
   "version": "3.7.1"
  }
 },
 "nbformat": 4,
 "nbformat_minor": 2
}
